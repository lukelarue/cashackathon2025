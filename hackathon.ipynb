{
 "cells": [
  {
   "cell_type": "code",
   "execution_count": null,
   "id": "884d0184-8541-40f1-933f-f0c1f940c832",
   "metadata": {},
   "outputs": [],
   "source": [
    "import polars as pl\n",
    "import pandas as pd\n",
    "import matplotlib.pyplot as plt\n",
    "import seaborn as sns"
   ]
  },
  {
   "cell_type": "code",
   "execution_count": null,
   "id": "fb33be24-f169-4b5d-ae0e-745ed3b12555",
   "metadata": {},
   "outputs": [],
   "source": [
    "primary_df = pl.read_csv('primary_data.csv')"
   ]
  },
  {
   "cell_type": "code",
   "execution_count": null,
   "id": "ed3993ac-9ab7-4de8-98c6-1c8edacabc7f",
   "metadata": {},
   "outputs": [],
   "source": [
    "secondary_df = pl.read_csv('secondary_data.csv')"
   ]
  },
  {
   "cell_type": "code",
   "execution_count": null,
   "id": "46771393-042d-42e6-99d8-237cfd2a8aa0",
   "metadata": {},
   "outputs": [],
   "source": [
    "reference_df = pl.read_csv('primary_data_reference.csv')"
   ]
  },
  {
   "cell_type": "code",
   "execution_count": null,
   "id": "51a64285-fb34-4161-a8ad-36d038a422d4",
   "metadata": {},
   "outputs": [],
   "source": [
    "primary_df = primary_df.with_columns(\n",
    "    (pl.col(\"associate_date\").is_not_null()).alias(\"ACAS\"),\n",
    "    (pl.col(\"Fellow_Date\").is_not_null()).alias(\"FCAS\")\n",
    ")\n",
    "primary_df = primary_df.with_columns(\n",
    "    pl.when(pl.col(\"FCAS\"))\n",
    "      .then(pl.lit(\"FCAS\"))\n",
    "      .when(pl.col(\"ACAS\"))\n",
    "      .then(pl.lit(\"ACAS\"))\n",
    "      .otherwise(pl.lit(\"non-member\"))\n",
    "      .alias(\"membership_type\")\n",
    ")"
   ]
  },
  {
   "cell_type": "code",
   "execution_count": null,
   "id": "62ed4a48-1983-4bf8-a8c3-450b34b52c0a",
   "metadata": {},
   "outputs": [],
   "source": [
    "pdf_pie_IP = primary_df.filter(pl.col('Delivery')=='IP').to_pandas()\n",
    "pdf_pie_LS = primary_df.filter(pl.col('Delivery')=='LS').to_pandas()\n",
    "pdf_pie_V = primary_df.filter(pl.col('Delivery')=='V').to_pandas()\n",
    "pdf_pie_all = primary_df.to_pandas()"
   ]
  },
  {
   "cell_type": "code",
   "execution_count": null,
   "id": "381d2da6-f617-4bab-88cb-2953fc4e52a3",
   "metadata": {},
   "outputs": [],
   "source": [
    "import matplotlib.pyplot as plt\n",
    "\n",
    "def plot_pies(df, group_col, event_col=\"Event_Code\"):\n",
    "    event_codes = df[event_col].unique()\n",
    "    n = len(event_codes)\n",
    "\n",
    "    fig, axes = plt.subplots(1, n, figsize=(4*n, 4))\n",
    "\n",
    "    if n == 1:\n",
    "        axes = [axes]\n",
    "\n",
    "    for ax, event in zip(axes, event_codes):\n",
    "        subset = df[df[event_col] == event]\n",
    "        counts = subset[group_col].value_counts()\n",
    "\n",
    "        ax.pie(counts, labels=counts.index, autopct=\"%1.1f%%\")\n",
    "        ax.set_title(f\"{event} - {group_col}\")\n",
    "\n",
    "    plt.show()\n"
   ]
  },
  {
   "cell_type": "markdown",
   "id": "ddbffbbe-b895-4c6c-bbb1-ed3aa8942eec",
   "metadata": {},
   "source": [
    "IP"
   ]
  },
  {
   "cell_type": "code",
   "execution_count": null,
   "id": "39de9a2d-8d24-431e-8116-59a7efc28ea1",
   "metadata": {},
   "outputs": [],
   "source": [
    "plot_pies(pdf_pie_IP, \"registrant_type_code\")\n",
    "plot_pies(pdf_pie_IP, \"membership_type\")\n",
    "plot_pies(pdf_pie_IP, \"State\")\n",
    "plot_pies(pdf_pie_IP, \"Country\")"
   ]
  },
  {
   "cell_type": "markdown",
   "id": "fe7d2eb3-a26a-4717-8a28-4569f9d9b92c",
   "metadata": {},
   "source": [
    "LS"
   ]
  },
  {
   "cell_type": "code",
   "execution_count": null,
   "id": "a258ef0a-34a6-4123-87fc-a1ad6d2baca3",
   "metadata": {},
   "outputs": [],
   "source": [
    "plot_pies(pdf_pie_LS, \"registrant_type_code\")\n",
    "plot_pies(pdf_pie_LS, \"membership_type\")\n",
    "plot_pies(pdf_pie_LS, \"State\")\n",
    "plot_pies(pdf_pie_LS, \"Country\")"
   ]
  },
  {
   "cell_type": "markdown",
   "id": "c642213d-1b61-4b2a-920e-a12a42910d73",
   "metadata": {},
   "source": [
    "V"
   ]
  },
  {
   "cell_type": "code",
   "execution_count": null,
   "id": "bedee72a-aea5-490f-92da-e8b3a97e8d7a",
   "metadata": {},
   "outputs": [],
   "source": [
    "plot_pies(pdf_pie_V, \"registrant_type_code\")\n",
    "plot_pies(pdf_pie_V, \"membership_type\")\n",
    "plot_pies(pdf_pie_V, \"State\")\n",
    "plot_pies(pdf_pie_V, \"Country\")"
   ]
  },
  {
   "cell_type": "markdown",
   "id": "f977e8e9-063a-40c0-876a-6ce15c29e917",
   "metadata": {},
   "source": [
    "all events"
   ]
  },
  {
   "cell_type": "code",
   "execution_count": null,
   "id": "49da40ad-edf8-43cf-88c7-48416521b3be",
   "metadata": {},
   "outputs": [],
   "source": [
    "plot_pies(pdf_pie_all, \"registrant_type_code\")\n",
    "plot_pies(pdf_pie_all, \"membership_type\")\n",
    "plot_pies(pdf_pie_all, \"State\")\n",
    "plot_pies(pdf_pie_all, \"Country\")"
   ]
  },
  {
   "cell_type": "code",
   "execution_count": null,
   "id": "8578444c-58aa-4f03-9c8c-d1be6a5a9043",
   "metadata": {},
   "outputs": [],
   "source": [
    "primary_df_parent_events = [\n",
    "    \"2015RPM\", \"15Spring\", \"2015REINS\", \"15CLRS\", \"15CLRS\", \"15Annual\", \"2016RPM\", \"16Spring\", \"16Spring\", \"2016REINS\",\n",
    "    \"16CLRS\", \"16CLRS\", \"16Annual\", \"17RPM\", \"17Spring\", \"17Spring\", \"2017REINS\", \"17CLRS\", \"17CLRS\", \"17Annual\",\n",
    "    \"17Annual\", \"18RPM\", \"18Spring\", \"18Spring\", \"2018REINS\", \"18CLRS\", \"18CLRS\", \"18Annual\", \"18Annual\", \"19RPM\",\n",
    "    \"19RPM\", \"19Spring\", \"19Spring\", \"2019REINS\", \"2019REINS\", \"19CLRS\", \"19CLRS\", \"19Annual\", \"19Annual\", \"20VirSprng\",\n",
    "    \"20VREINS\", \"20VRPM\", \"20VRCLRS\", \"20VirAnn\", \"21VRPM\", \"21VirSprng\", \"21VREINS\", \"21VRCLRS\", \"21Annual\", \"21Annual\",\n",
    "    \"RPMLive22\", \"22Spring\", \"22Spring\", \"22VREINS\", \"22CLRS\", \"22CLRS\", \"22Annual\", \"22Annual\", \"23RPM\", \"23RPM\",\n",
    "    \"23Spring\", \"23Spring\", \"23REI\", \"23REI\", \"23CLRS\", \"23CLRS\", \"23Annual\", \"23Annual\", \"24RPM\", \"24RPM\",\n",
    "    \"24Spring\", \"24Spring\", \"24Reins\", \"24Reins\", \"24CLRS\", \"24CLRS\", \"24Annual\", \"24Annual\",\n",
    "]\n"
   ]
  },
  {
   "cell_type": "code",
   "execution_count": null,
   "id": "8f818b8f-7047-4fcd-beb5-b9be192f5471",
   "metadata": {},
   "outputs": [],
   "source": [
    "def add_event_type_column(df: pl.DataFrame) -> pl.DataFrame:\n",
    "    return df.with_columns(\n",
    "    pl.when(pl.col(\"parent_event\").str.to_lowercase().str.contains(\"ann\"))\n",
    "      .then(pl.lit(\"Annual\"))\n",
    "    .when(pl.col(\"parent_event\").str.to_lowercase().str.contains(\"clrs\"))\n",
    "      .then(pl.lit(\"CLRS\"))\n",
    "    .when(pl.col(\"parent_event\").str.to_lowercase().str.contains(\"rpm\"))\n",
    "      .then(pl.lit(\"RPM\"))\n",
    "    .when(pl.col(\"parent_event\").str.to_lowercase().str.contains(\"rei\"))\n",
    "      .then(pl.lit(\"REINS\"))\n",
    "    .when(pl.col(\"parent_event\").str.to_lowercase().str.contains(\"spr\"))\n",
    "      .then(pl.lit(\"Spring\"))\n",
    "    .otherwise(pl.lit(\"type not found\"))\n",
    "    .alias(\"event_type\")\n",
    ")"
   ]
  },
  {
   "cell_type": "code",
   "execution_count": null,
   "id": "5db1c543-f277-4858-b25f-71fa291d1a6b",
   "metadata": {},
   "outputs": [],
   "source": [
    "primary_df_grouped = (\n",
    "    primary_df.group_by(\"Event_Title\")\n",
    "      .agg([\n",
    "          pl.col(\"Event_Code\").first().alias(\"Event_Code\"),\n",
    "\n",
    "          pl.col(\"Start_Date\").first().alias(\"Start_Date\"),\n",
    "\n",
    "          pl.col(\"Delivery\").first().alias(\"Delivery\"),\n",
    "\n",
    "          pl.col(\"Location_City\").first().alias(\"Location_City\"),\n",
    "\n",
    "          pl.col(\"Location_State\").first().alias(\"Location_State\"),\n",
    "\n",
    "          pl.len().alias(\"attendance\"),\n",
    "      ])\n",
    ").with_columns(\n",
    "        pl.col(\"Start_Date\")\n",
    "        .str.strptime(pl.Date, \"%m/%d/%Y\", strict=False)\n",
    "        .alias(\"Start_Date\")\n",
    ").sort(by='Start_Date').with_columns(\n",
    "   pl.Series(\"parent_event\", primary_df_parent_events)\n",
    "    )"
   ]
  },
  {
   "cell_type": "code",
   "execution_count": null,
   "id": "5025ab69-4193-4c96-be43-49f60b8fa48e",
   "metadata": {},
   "outputs": [],
   "source": [
    "primary_df_grouped = add_event_type_column(primary_df_grouped)\n",
    "primary_df_grouped = primary_df_grouped.with_columns(pl.concat_str([pl.col(\"Location_City\"), pl.lit(\", \"), pl.col(\"Location_State\")]).alias(\"city_state\"))\n",
    "\n",
    "totals_ip_ls = (\n",
    "    primary_df_grouped\n",
    "    .filter(pl.col(\"Delivery\").is_in([\"IP\", \"LS\"]))\n",
    "    .group_by(\"parent_event\")\n",
    "    .agg([\n",
    "        pl.col(\"attendance\").sum().alias(\"attendance\"),\n",
    "        pl.lit(\"IP+LS\").alias(\"Delivery\"),\n",
    "\n",
    "        pl.col(\"Location_City\").first().alias(\"Location_City\"),\n",
    "        pl.col(\"Location_State\").first().alias(\"Location_State\"),\n",
    "        pl.col(\"city_state\").first().alias(\"city_state\"),\n",
    "        pl.col(\"event_type\").first().alias(\"event_type\"),\n",
    "        pl.col(\"Start_Date\").first().alias(\"Start_Date\"),\n",
    "\n",
    "        pl.lit(None, dtype=pl.Utf8).alias(\"Event_Title\"),\n",
    "        pl.lit(None, dtype=pl.Utf8).alias(\"Event_Code\"),\n",
    "    ])\n",
    ")\n",
    "primary_df_grouped_combined = pl.concat([primary_df_grouped, totals_ip_ls], how=\"diagonal\")"
   ]
  },
  {
   "cell_type": "code",
   "execution_count": null,
   "id": "0bc3f417-edff-461c-bb05-baeac51edba5",
   "metadata": {},
   "outputs": [],
   "source": [
    "pdf_line_CLRS = primary_df_grouped_combined.filter(pl.col('event_type')=='CLRS').to_pandas()\n",
    "pdf_line_Annual = primary_df_grouped_combined.filter(pl.col('event_type')=='Annual').to_pandas()\n",
    "pdf_line_RPM = primary_df_grouped_combined.filter(pl.col('event_type')=='RPM').to_pandas()\n",
    "pdf_line_REINS = primary_df_grouped_combined.filter(pl.col('event_type')=='REINS').to_pandas()\n",
    "pdf_line_Spring = primary_df_grouped_combined.filter(pl.col('event_type')=='Spring').to_pandas()"
   ]
  },
  {
   "cell_type": "code",
   "execution_count": null,
   "id": "f0a2d3c0-34f0-4958-bc2a-1f17e6249caa",
   "metadata": {},
   "outputs": [],
   "source": [
    "def plot_line_by_delivery(df, event_type):\n",
    "    plt.figure(figsize=(12,6))\n",
    "    ax = sns.lineplot(\n",
    "        data=df,\n",
    "        x=\"Start_Date\",\n",
    "        y=\"attendance\",\n",
    "        marker=\"o\",\n",
    "        hue=\"Delivery\"\n",
    "    )\n",
    "    for (x, y, txt) in zip(df[\"Start_Date\"], df[\"attendance\"], df['city_state']):\n",
    "        ax.annotate(\n",
    "            txt,\n",
    "            xy=(x, y),\n",
    "            xytext=(0, 6),\n",
    "            textcoords=\"offset points\",\n",
    "            ha=\"center\",\n",
    "            va=\"bottom\",\n",
    "            fontsize=8\n",
    "        )\n",
    "    \n",
    "    plt.title(f\"{event_type} Event Attendance Over Time\", fontsize=16)\n",
    "    plt.xlabel(\"Event Date\")\n",
    "    plt.ylabel(\"Attendance\")\n",
    "    plt.xticks(rotation=45)\n",
    "    plt.tight_layout()\n",
    "    plt.show()"
   ]
  },
  {
   "cell_type": "code",
   "execution_count": null,
   "id": "1d00f396-6058-46da-8ceb-a685c4061bdf",
   "metadata": {},
   "outputs": [],
   "source": [
    "plot_line_by_delivery(pdf_line_CLRS, \"CLRS\")\n",
    "plot_line_by_delivery(pdf_line_Annual, \"Annual\")\n",
    "plot_line_by_delivery(pdf_line_RPM, \"RPM\")\n",
    "plot_line_by_delivery(pdf_line_REINS, \"REINS\")\n",
    "plot_line_by_delivery(pdf_line_Spring, \"Spring\")"
   ]
  },
  {
   "cell_type": "code",
   "execution_count": null,
   "id": "3dc620f6-4871-444f-bb65-f58770ae6828",
   "metadata": {},
   "outputs": [],
   "source": [
    "event_type_order = [\"Annual\", \"CLRS\", \"REINS\", \"RPM\", \"Spring\"]\n",
    "\n",
    "colors = sns.color_palette(\"tab10\", n_colors=len(event_type_order))\n",
    "EVENT_TYPE_TO_COLOR = dict(zip(event_type_order, colors))\n",
    "\n",
    "pdf_line_IP = primary_df_grouped_combined.filter(pl.col('Delivery')=='IP').to_pandas()\n",
    "pdf_line_LS = primary_df_grouped_combined.filter(pl.col('Delivery')=='LS').to_pandas()\n",
    "pdf_line_IPLS = primary_df_grouped_combined.filter(pl.col('Delivery')=='IP+LS').to_pandas()\n",
    "\n",
    "for df in (pdf_line_IP, pdf_line_LS, pdf_line_IPLS):\n",
    "    df[\"event_type\"] = pd.Categorical(df[\"event_type\"], categories=event_type_order)"
   ]
  },
  {
   "cell_type": "code",
   "execution_count": null,
   "id": "6bd8274f-0427-470b-9743-077d28f11606",
   "metadata": {},
   "outputs": [],
   "source": [
    "def plot_line_by_event_type(df, event_type):\n",
    "    plt.figure(figsize=(12,6))\n",
    "    ax = sns.lineplot(\n",
    "        data=df,\n",
    "        x=\"Start_Date\",\n",
    "        y=\"attendance\",\n",
    "        marker=\"o\",\n",
    "        hue=\"event_type\",\n",
    "        hue_order=event_type_order,\n",
    "        palette=EVENT_TYPE_TO_COLOR\n",
    "    )\n",
    "    for (x, y, txt) in zip(df[\"Start_Date\"], df[\"attendance\"], df['city_state']):\n",
    "        ax.annotate(\n",
    "            txt,\n",
    "            xy=(x, y),\n",
    "            xytext=(0, 6),\n",
    "            textcoords=\"offset points\",\n",
    "            ha=\"center\",\n",
    "            va=\"bottom\",\n",
    "            fontsize=8\n",
    "        )\n",
    "    \n",
    "    plt.title(f\"{event_type} Event Attendance Over Time\", fontsize=16)\n",
    "    plt.xlabel(\"Event Date\")\n",
    "    plt.ylabel(\"Attendance\")\n",
    "    plt.xticks(rotation=45)\n",
    "    plt.tight_layout()\n",
    "    plt.show()"
   ]
  },
  {
   "cell_type": "code",
   "execution_count": null,
   "id": "af653f59-1106-422f-baf5-4dd92e5f6f47",
   "metadata": {},
   "outputs": [],
   "source": [
    "plot_line_by_event_type(pdf_line_IP, \"IP\")\n",
    "plot_line_by_event_type(pdf_line_LS, \"LS\")\n",
    "plot_line_by_event_type(pdf_line_IPLS, \"IP+LS\")"
   ]
  },
  {
   "cell_type": "code",
   "execution_count": null,
   "id": "f1dd1a35-d056-42f6-b1aa-ee4d580ed50d",
   "metadata": {},
   "outputs": [],
   "source": [
    "secondary_event_types = [\n",
    "    'CLRS', 'CLRS', 'ANN', 'ANN', 'RPM', 'RPM', 'SPR', 'SPR', 'SPR', 'REI', 'REI', 'CLRS',\n",
    "    'CLRS', 'CLRS', 'CSAF', 'ANN', 'ANN', 'ANN', 'ANN', 'RPM', 'RPM', 'SPR', 'SPR', 'REI',\n",
    "    'REI', 'CLRS', 'CLRS', 'ANN', 'ANN', 'ANN', 'RPM', 'RPM', 'SPR', 'SPR', 'REI', 'REI',\n",
    "    'CLRS', 'CLRS', 'ANN', 'ANN', 'ANN', 'RPM', 'RPM', 'RPM', 'SPR', 'SPR', 'REI', 'REI',\n",
    "    'CLRS', 'CLRS', 'ANN', 'ANN', 'RPM', 'RPM', 'RPM', 'RPM', 'SPR', 'SPR', 'SPR', 'REI',\n",
    "    'REI', 'CARE', 'CLRS', 'CLRS', 'ANN', 'ANN', 'ANN', 'RPM', 'SPR', 'SPR', 'SPR', 'REI',\n",
    "    'REI', 'REI', 'REI', 'RPM', 'CLRS', 'CLRS', 'CLRS', 'CLRS', 'CSAF', 'ANN', 'ANN', 'RPM',\n",
    "    'RPM', 'RPM', 'RPM', 'SPR', 'SPR', 'SPR', 'REI', 'REI', 'REI', 'REI', 'CLRS', 'CLRS',\n",
    "    'CLRS', 'CLRS', 'ANN', 'ANN', 'RPM', 'RPM', 'RPM', 'RPM', 'SPR', 'SPR', 'REI', 'REI',\n",
    "    'CLRS', 'CLRS', 'CLRS', 'CLRS', 'ANN', 'RPM', 'RPM', 'RPM', 'SPR', 'REI', 'REI', 'REI',\n",
    "    'CLRS', 'CLRS', 'CLRS', 'ANN', 'RPM', 'RPM', 'SPR', 'REI', 'REI', 'REI', 'CLRS', 'CLRS',\n",
    "    'CLRS', 'ANN', 'RPM', 'RPM', 'RPM', 'SPR', 'REI', 'REI', 'REI'\n",
    "]\n"
   ]
  },
  {
   "cell_type": "code",
   "execution_count": null,
   "id": "92142a6a-7b41-4641-b08e-17b948a5807a",
   "metadata": {},
   "outputs": [],
   "source": [
    "secondary_df_grouped = secondary_df.group_by('Meeting').agg([pl.col('Begin_Date').first(), pl.len().alias('attendance')]).with_columns(\n",
    "        pl.col(\"Begin_Date\")\n",
    "        .str.strptime(pl.Date, \"%m/%d/%Y\", strict=False)\n",
    "        .alias(\"Begin_Date\")\n",
    ").sort(by='Begin_Date').with_columns(\n",
    "   pl.Series(\"event_type\", secondary_event_types),\n",
    "    pl.col(\"Meeting\").str.slice(0, 4).alias(\"Year\")\n",
    "    ).with_columns(pl.concat_str(\n",
    "        [pl.col(\"Year\"), pl.col(\"event_type\")],\n",
    "        separator=\"\"\n",
    "    ).alias(\"year_and_event\"))\n",
    "\n",
    "secondary_event_totals = secondary_df_grouped.group_by('year_and_event').agg([pl.col('attendance').sum(), pl.col('Begin_Date').first(), pl.col('event_type').first()]).sort(by='Begin_Date')"
   ]
  },
  {
   "cell_type": "code",
   "execution_count": null,
   "id": "1e54e677-3a31-4702-a118-77e88fe5cd5f",
   "metadata": {},
   "outputs": [],
   "source": [
    "import pandas as pd\n",
    "import seaborn as sns\n",
    "import matplotlib.pyplot as plt\n",
    "import matplotlib.dates as mdates\n",
    "\n",
    "pdf = secondary_event_totals.filter(pl.col('year_and_event')!='2014ANN').to_pandas()  # Remove 2014 Annual as it was the CAS Centenniel Celebration and was an outlier, distorting the chart.\n",
    "\n",
    "fig, ax = plt.subplots(figsize=(10, 5))\n",
    "sns.lineplot(\n",
    "    data=pdf,\n",
    "    x=\"Begin_Date\",\n",
    "    y=\"attendance\",\n",
    "    hue=\"event_type\",\n",
    "    marker=\"o\",\n",
    "    ax=ax,\n",
    ")\n",
    "\n",
    "ax.set_title(\"Attendance over time by event type\")\n",
    "ax.set_xlabel(\"Date\")\n",
    "ax.set_ylabel(\"Attendance\")\n",
    "ax.xaxis.set_major_locator(mdates.YearLocator())\n",
    "ax.xaxis.set_major_formatter(mdates.DateFormatter(\"%Y\"))\n",
    "ax.grid(True, alpha=0.3)\n",
    "\n",
    "ax.legend(title=\"Event type\", frameon=False, bbox_to_anchor=(1.02, 1), loc=\"upper left\")\n",
    "plt.tight_layout()\n",
    "plt.show()\n"
   ]
  },
  {
   "cell_type": "code",
   "execution_count": null,
   "id": "5e3af260-7ac8-4ae2-88b3-91bc005e854e",
   "metadata": {},
   "outputs": [],
   "source": []
  }
 ],
 "metadata": {
  "kernelspec": {
   "display_name": "Python [conda env:base] *",
   "language": "python",
   "name": "conda-base-py"
  },
  "language_info": {
   "codemirror_mode": {
    "name": "ipython",
    "version": 3
   },
   "file_extension": ".py",
   "mimetype": "text/x-python",
   "name": "python",
   "nbconvert_exporter": "python",
   "pygments_lexer": "ipython3",
   "version": "3.13.5"
  }
 },
 "nbformat": 4,
 "nbformat_minor": 5
}
